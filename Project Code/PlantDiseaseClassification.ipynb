{
  "nbformat": 4,
  "nbformat_minor": 0,
  "metadata": {
    "colab": {
      "name": "FinalplantDisease.ipynb",
      "provenance": [],
      "collapsed_sections": []
    },
    "kernelspec": {
      "name": "python3",
      "display_name": "Python 3"
    },
    "language_info": {
      "name": "python"
    },
    "accelerator": "GPU"
  },
  "cells": [
    {
      "cell_type": "code",
      "metadata": {
        "colab": {
          "base_uri": "https://localhost:8080/"
        },
        "id": "N_e0126QFxuJ",
        "outputId": "467e6390-4e85-41d9-a06c-d96bace48446"
      },
      "source": [
        "\n",
        "from google.colab import drive\n",
        "drive.mount('/content/gdrive')"
      ],
      "execution_count": null,
      "outputs": [
        {
          "output_type": "stream",
          "name": "stdout",
          "text": [
            "Mounted at /content/gdrive\n"
          ]
        }
      ]
    },
    {
      "cell_type": "code",
      "metadata": {
        "id": "M1J1rxJ4IbcH"
      },
      "source": [
        "!unzip gdrive/My\\ Drive/archive.zip > /dev/null"
      ],
      "execution_count": null,
      "outputs": []
    },
    {
      "cell_type": "code",
      "metadata": {
        "id": "VWPOW5QSIcET"
      },
      "source": [
        "import numpy as np\n",
        "import pandas as pd\n",
        "import matplotlib.pyplot as plt\n",
        "import os\n",
        "import keras\n",
        "from keras.preprocessing.image import ImageDataGenerator, img_to_array \n",
        "from keras.applications.vgg19 import VGG19,preprocess_input,decode_predictions"
      ],
      "execution_count": null,
      "outputs": []
    },
    {
      "cell_type": "code",
      "metadata": {
        "colab": {
          "base_uri": "https://localhost:8080/"
        },
        "id": "Px32AJ6rKMhg",
        "outputId": "52c1b0dd-bb74-4adb-8a38-61997537291b"
      },
      "source": [
        "len(os.listdir(\"/content/New Plant Diseases Dataset/New Plant Diseases Dataset/train\"))  "
      ],
      "execution_count": null,
      "outputs": [
        {
          "output_type": "execute_result",
          "data": {
            "text/plain": [
              "38"
            ]
          },
          "metadata": {},
          "execution_count": 4
        }
      ]
    },
    {
      "cell_type": "code",
      "metadata": {
        "id": "Gaue1BntKv2h"
      },
      "source": [
        "train_datagen = ImageDataGenerator(zoom_range= 0.5, horizontal_flip= True,rotation_range=True, preprocessing_function=preprocess_input)\n",
        "val_datagen = ImageDataGenerator(preprocessing_function=preprocess_input)   "
      ],
      "execution_count": null,
      "outputs": []
    },
    {
      "cell_type": "code",
      "metadata": {
        "colab": {
          "base_uri": "https://localhost:8080/"
        },
        "id": "revGAIgpL8Kq",
        "outputId": "2214df74-1fe9-4bc3-cfaa-2adb0129fe66"
      },
      "source": [
        "train = train_datagen.flow_from_directory(directory=\"/content/New Plant Diseases Dataset(Augmented)/New Plant Diseases Dataset(Augmented)/train\",target_size= (256,256),batch_size=32)\n",
        "\n",
        "val = val_datagen.flow_from_directory(directory=\"/content/New Plant Diseases Dataset(Augmented)/New Plant Diseases Dataset(Augmented)/valid\",target_size= (256,256),batch_size=32) "
      ],
      "execution_count": null,
      "outputs": [
        {
          "output_type": "stream",
          "name": "stdout",
          "text": [
            "Found 70295 images belonging to 38 classes.\n",
            "Found 17572 images belonging to 38 classes.\n"
          ]
        }
      ]
    },
    {
      "cell_type": "markdown",
      "metadata": {
        "id": "dqMRsJNwO5WZ"
      },
      "source": [
        "Building the Model"
      ]
    },
    {
      "cell_type": "code",
      "metadata": {
        "id": "PK6NYQVjPABx"
      },
      "source": [
        "from keras.layers import Dense, Flatten\n",
        "from keras.models import Model\n",
        "from keras.applications.vgg19 import VGG19\n",
        "import keras   "
      ],
      "execution_count": null,
      "outputs": []
    },
    {
      "cell_type": "code",
      "metadata": {
        "id": "ckblgJSPPGpk",
        "colab": {
          "base_uri": "https://localhost:8080/"
        },
        "outputId": "5c362d8d-c926-4979-ac58-ea4379b7f2f9"
      },
      "source": [
        "base_model = VGG19(input_shape=(256,256,3))\n"
      ],
      "execution_count": null,
      "outputs": [
        {
          "output_type": "stream",
          "name": "stdout",
          "text": [
            "Downloading data from https://storage.googleapis.com/tensorflow/keras-applications/vgg19/vgg19_weights_tf_dim_ordering_tf_kernels_notop.h5\n",
            "80142336/80134624 [==============================] - 1s 0us/step\n",
            "80150528/80134624 [==============================] - 1s 0us/step\n"
          ]
        }
      ]
    },
    {
      "cell_type": "code",
      "metadata": {
        "id": "HAxNprxEQCVR"
      },
      "source": [
        "X = Flatten()(base_model.output)\n",
        "\n",
        "#creating model\n",
        "model = Model(base_model.input, X)  "
      ],
      "execution_count": null,
      "outputs": []
    },
    {
      "cell_type": "code",
      "metadata": {
        "id": "sJeiMsGHqKxf"
      },
      "source": [
        "from keras.callbacks import ModelCheckpoint, EarlyStopping\n",
        "es = EarlyStopping (monitor= 'val_accuracy', min_delta= 0.01, patience= 3, verbose=1)\n",
        "mc = ModelCheckpoint (filepath=\"best_model.h5\",monitor= 'val_accuracy', min_delta= 0.01, patience= 3, verbose=1, save_best_only= True)\n",
        "cb = [es, mc]"
      ],
      "execution_count": null,
      "outputs": []
    },
    {
      "cell_type": "code",
      "metadata": {
        "id": "cJit8bulRjDQ"
      },
      "source": [
        "model.compile(optimizer= 'adam' , loss= keras.losses.categorical_crossentropy, metrics= ['accuracy'])"
      ],
      "execution_count": null,
      "outputs": []
    },
    {
      "cell_type": "code",
      "metadata": {
        "id": "2R5Txg7dQDrD",
        "colab": {
          "base_uri": "https://localhost:8080/"
        },
        "outputId": "265f66cd-4ad2-49d0-e73e-52a421422bc7"
      },
      "source": [
        "m = model.fit_generator(train,\n",
        "                        steps_per_epoch= 16, \n",
        "                        epochs= 20, \n",
        "                        verbose=1,  \n",
        "                        callbacks= cb, \n",
        "                        validation_data= val , \n",
        "                        validation_steps= 16 )"
      ],
      "execution_count": null,
      "outputs": [
        {
          "output_type": "stream",
          "name": "stderr",
          "text": [
            "/usr/local/lib/python3.7/dist-packages/ipykernel_launcher.py:2: UserWarning: `Model.fit_generator` is deprecated and will be removed in a future version. Please use `Model.fit`, which supports generators.\n",
            "  \n"
          ]
        },
        {
          "output_type": "stream",
          "name": "stdout",
          "text": [
            "Epoch 1/100\n",
            "16/16 [==============================] - ETA: 0s - loss: 8.6468 - accuracy: 0.6992\n",
            "Epoch 00001: val_accuracy did not improve from 0.77539\n",
            "16/16 [==============================] - 17s 1s/step - loss: 8.6468 - accuracy: 0.6992 - val_loss: 6.6487 - val_accuracy: 0.7480\n",
            "Epoch 2/100\n",
            "16/16 [==============================] - ETA: 0s - loss: 8.0316 - accuracy: 0.7227\n",
            "Epoch 00002: val_accuracy did not improve from 0.77539\n",
            "16/16 [==============================] - 16s 1s/step - loss: 8.0316 - accuracy: 0.7227 - val_loss: 6.8227 - val_accuracy: 0.7734\n",
            "Epoch 3/100\n",
            "16/16 [==============================] - ETA: 0s - loss: 8.7781 - accuracy: 0.6953\n",
            "Epoch 00003: val_accuracy did not improve from 0.77539\n",
            "16/16 [==============================] - 17s 1s/step - loss: 8.7781 - accuracy: 0.6953 - val_loss: 6.9952 - val_accuracy: 0.7617\n",
            "Epoch 4/100\n",
            "16/16 [==============================] - ETA: 0s - loss: 8.3200 - accuracy: 0.7129\n",
            "Epoch 00004: val_accuracy improved from 0.77539 to 0.78711, saving model to best_model.h5\n",
            "16/16 [==============================] - 17s 1s/step - loss: 8.3200 - accuracy: 0.7129 - val_loss: 6.0892 - val_accuracy: 0.7871\n",
            "Epoch 5/100\n",
            "16/16 [==============================] - ETA: 0s - loss: 6.7447 - accuracy: 0.7578\n",
            "Epoch 00005: val_accuracy did not improve from 0.78711\n",
            "16/16 [==============================] - 16s 1s/step - loss: 6.7447 - accuracy: 0.7578 - val_loss: 7.6681 - val_accuracy: 0.7656\n",
            "Epoch 6/100\n",
            "16/16 [==============================] - ETA: 0s - loss: 8.2466 - accuracy: 0.7500\n",
            "Epoch 00006: val_accuracy improved from 0.78711 to 0.80664, saving model to best_model.h5\n",
            "16/16 [==============================] - 17s 1s/step - loss: 8.2466 - accuracy: 0.7500 - val_loss: 6.1253 - val_accuracy: 0.8066\n",
            "Epoch 7/100\n",
            "16/16 [==============================] - ETA: 0s - loss: 8.3419 - accuracy: 0.7246\n",
            "Epoch 00007: val_accuracy improved from 0.80664 to 0.83789, saving model to best_model.h5\n",
            "16/16 [==============================] - 17s 1s/step - loss: 8.3419 - accuracy: 0.7246 - val_loss: 5.2362 - val_accuracy: 0.8379\n",
            "Epoch 8/100\n",
            "16/16 [==============================] - ETA: 0s - loss: 7.3420 - accuracy: 0.7598\n",
            "Epoch 00008: val_accuracy did not improve from 0.83789\n",
            "16/16 [==============================] - 16s 1s/step - loss: 7.3420 - accuracy: 0.7598 - val_loss: 7.9269 - val_accuracy: 0.7812\n",
            "Epoch 9/100\n",
            "16/16 [==============================] - ETA: 0s - loss: 9.4099 - accuracy: 0.7266\n",
            "Epoch 00009: val_accuracy did not improve from 0.83789\n",
            "16/16 [==============================] - 17s 1s/step - loss: 9.4099 - accuracy: 0.7266 - val_loss: 5.2008 - val_accuracy: 0.8340\n",
            "Epoch 10/100\n",
            "16/16 [==============================] - ETA: 0s - loss: 9.4370 - accuracy: 0.7480\n",
            "Epoch 00010: val_accuracy improved from 0.83789 to 0.84180, saving model to best_model.h5\n",
            "16/16 [==============================] - 16s 1s/step - loss: 9.4370 - accuracy: 0.7480 - val_loss: 5.2153 - val_accuracy: 0.8418\n",
            "Epoch 00010: early stopping\n"
          ]
        }
      ]
    },
    {
      "cell_type": "code",
      "metadata": {
        "colab": {
          "base_uri": "https://localhost:8080/"
        },
        "id": "Ri0PVpwjb0xc",
        "outputId": "25f6b5b0-d1c0-42ab-b922-47d91a1ffbb5"
      },
      "source": [
        "h=m.history \n",
        "h.keys()"
      ],
      "execution_count": null,
      "outputs": [
        {
          "output_type": "execute_result",
          "data": {
            "text/plain": [
              "dict_keys(['loss', 'accuracy', 'val_loss', 'val_accuracy'])"
            ]
          },
          "metadata": {},
          "execution_count": 21
        }
      ]
    },
    {
      "cell_type": "code",
      "metadata": {
        "colab": {
          "base_uri": "https://localhost:8080/",
          "height": 281
        },
        "id": "9qY_nxOHb3vd",
        "outputId": "c2f963d2-eb8e-4278-d20a-d2e181d4eb8b"
      },
      "source": [
        "plt.plot(h['accuracy']) \n",
        "plt.plot(h['val_accuracy'], c=\"red\") \n",
        "plt.title(\"acc vs V-acc\") \n",
        "plt.show()"
      ],
      "execution_count": null,
      "outputs": [
        {
          "output_type": "display_data",
          "data": {
            "image/png": "[encoded data removed]",
            "text/plain": [
              "<Figure size 432x288 with 1 Axes>"
            ]
          },
          "metadata": {
            "needs_background": "light"
          }
        }
      ]
    },
    {
      "cell_type": "code",
      "metadata": {
        "colab": {
          "base_uri": "https://localhost:8080/",
          "height": 281
        },
        "id": "uLVE79KxcOHS",
        "outputId": "29c0be2b-51bf-41b2-db32-71adefff31cf"
      },
      "source": [
        "plt.plot(h['loss']) \n",
        "plt.plot(h['val_loss'], c=\"red\") \n",
        "plt.title(\"loss vs v-loss\") \n",
        "plt.show()"
      ],
      "execution_count": null,
      "outputs": [
        {
          "output_type": "display_data",
          "data": {
            "image/png": "[encoded data removed]",
            "text/plain": [
              "<Figure size 432x288 with 1 Axes>"
            ]
          },
          "metadata": {
            "needs_background": "light"
          }
        }
      ]
    },
    {
      "cell_type": "code",
      "metadata": {
        "id": "txdta8Auev-b"
      },
      "source": [
        "from keras.models import load_model\n",
        "\n",
        "model =load_model(\"/content/best_model.h5\")\n"
      ],
      "execution_count": null,
      "outputs": []
    },
    {
      "cell_type": "code",
      "metadata": {
        "id": "Q_Pb_tdOewjx",
        "colab": {
          "base_uri": "https://localhost:8080/"
        },
        "outputId": "9ff9b2f8-1d75-4f55-a579-5d4b84d00442"
      },
      "source": [
        "acc=model.evaluate_generator(val)[1]\n",
        "\n",
        "print(f\"The accuracy of your model is = {acc*100} %\")   "
      ],
      "execution_count": null,
      "outputs": [
        {
          "output_type": "stream",
          "name": "stderr",
          "text": [
            "/usr/local/lib/python3.7/dist-packages/ipykernel_launcher.py:1: UserWarning: `Model.evaluate_generator` is deprecated and will be removed in a future version. Please use `Model.evaluate`, which supports generators.\n",
            "  \"\"\"Entry point for launching an IPython kernel.\n"
          ]
        },
        {
          "output_type": "stream",
          "name": "stdout",
          "text": [
            "The accuracy of your model is = 82.10790157318115 %\n"
          ]
        }
      ]
    },
    {
      "cell_type": "code",
      "metadata": {
        "id": "Axsq7r2l3YXF"
      },
      "source": [
        ""
      ],
      "execution_count": null,
      "outputs": []
    }
  ]
}